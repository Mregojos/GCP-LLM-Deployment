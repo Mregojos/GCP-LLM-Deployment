{
 "cells": [
  {
   "cell_type": "markdown",
   "id": "0e910a53-9cbf-4481-97a6-77e8492c3cc2",
   "metadata": {},
   "source": [
    "# Multimodal Model Deployment \n",
    "\n",
    "Resources: https://ai.google.dev/docs"
   ]
  },
  {
   "cell_type": "code",
   "execution_count": null,
   "id": "7a10f81b-e886-4cb5-8402-242c76573854",
   "metadata": {
    "tags": []
   },
   "outputs": [],
   "source": [
    "# Python SDK\n",
    "!pip install -q -U google-generativeai"
   ]
  },
  {
   "cell_type": "code",
   "execution_count": null,
   "id": "e8dd2fe5-f3dc-4af8-a236-58b4ba23f5a1",
   "metadata": {
    "tags": []
   },
   "outputs": [],
   "source": [
    "# Import Packages\n",
    "import pathlib\n",
    "import textwrap\n",
    "\n",
    "import google.generativeai as genai\n",
    "\n",
    "# Used to securely store your API Key\n",
    "# from google.colab import userdata\n",
    "\n",
    "from IPython.display import display\n",
    "from IPython.display import Markdown\n",
    "\n",
    "def to_markdown(tex):\n",
    "    text = text.replace('•', ' *')\n",
    "    return Markdown(textwrap.indent(text, '> ', predicate=lambda _: True))"
   ]
  },
  {
   "cell_type": "code",
   "execution_count": null,
   "id": "482a2609-0947-4234-8bb8-d04cfefb2591",
   "metadata": {
    "tags": []
   },
   "outputs": [],
   "source": [
    "# API Setup\n",
    "# Or use `os.getenv('GOOGLE_API_KEY')` to fetch an environment variable.\n",
    "# GOOGLE_API_KEY=userdata.get('GOOGLE_API_KEY')\n",
    "\n",
    "# gen.configure(api_key=GOOGLE_API_KEY)"
   ]
  },
  {
   "cell_type": "code",
   "execution_count": null,
   "id": "4517e10b-1982-4d8f-946b-fa9f4d7bc966",
   "metadata": {
    "tags": []
   },
   "outputs": [],
   "source": [
    "# List Models\n",
    "for m in genai.list_models():\n",
    "    if 'generateContent' in m.supported_generation_methods:\n",
    "        print(m.name)"
   ]
  },
  {
   "cell_type": "code",
   "execution_count": null,
   "id": "f0f9e24b-c860-41b4-a40f-c0d82f40e937",
   "metadata": {},
   "outputs": [],
   "source": []
  }
 ],
 "metadata": {
  "environment": {
   "kernel": "python3",
   "name": "tf2-cpu.2-11.m114",
   "type": "gcloud",
   "uri": "gcr.io/deeplearning-platform-release/tf2-cpu.2-11:m114"
  },
  "kernelspec": {
   "display_name": "Python 3",
   "language": "python",
   "name": "python3"
  },
  "language_info": {
   "codemirror_mode": {
    "name": "ipython",
    "version": 3
   },
   "file_extension": ".py",
   "mimetype": "text/x-python",
   "name": "python",
   "nbconvert_exporter": "python",
   "pygments_lexer": "ipython3",
   "version": "3.10.13"
  }
 },
 "nbformat": 4,
 "nbformat_minor": 5
}
