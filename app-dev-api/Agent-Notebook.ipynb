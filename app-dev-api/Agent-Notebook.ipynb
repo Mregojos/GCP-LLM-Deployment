{
 "cells": [
  {
   "cell_type": "markdown",
   "id": "0e910a53-9cbf-4481-97a6-77e8492c3cc2",
   "metadata": {},
   "source": [
    "# Multimodal Model Deployment \n",
    "\n",
    "Resources: https://ai.google.dev/docs"
   ]
  },
  {
   "cell_type": "code",
   "execution_count": null,
   "id": "7a10f81b-e886-4cb5-8402-242c76573854",
   "metadata": {
    "tags": []
   },
   "outputs": [],
   "source": [
    "# Python SDK\n",
    "!pip install -q -U google-generativeai"
   ]
  },
  {
   "cell_type": "code",
   "execution_count": null,
   "id": "e8dd2fe5-f3dc-4af8-a236-58b4ba23f5a1",
   "metadata": {
    "tags": []
   },
   "outputs": [],
   "source": [
    "# Import Packages\n",
    "import pathlib\n",
    "import textwrap\n",
    "\n",
    "import google.generativeai as genai\n",
    "\n",
    "# Used to securely store your API Key\n",
    "# from google.colab import userdata\n",
    "\n",
    "from IPython.display import display\n",
    "from IPython.display import Markdown\n",
    "\n",
    "def to_markdown(tex):\n",
    "    text = text.replace('•', ' *')\n",
    "    return Markdown(textwrap.indent(text, '> ', predicate=lambda _: True))"
   ]
  },
  {
   "cell_type": "code",
   "execution_count": null,
   "id": "482a2609-0947-4234-8bb8-d04cfefb2591",
   "metadata": {
    "tags": []
   },
   "outputs": [],
   "source": [
    "# API Setup\n",
    "# Or use `os.getenv('GOOGLE_API_KEY')` to fetch an environment variable.\n",
    "# GOOGLE_API_KEY=userdata.get('GOOGLE_API_KEY')\n",
    "\n",
    "# genai.configure(api_key=GOOGLE_API_KEY)"
   ]
  },
  {
   "cell_type": "code",
   "execution_count": null,
   "id": "4517e10b-1982-4d8f-946b-fa9f4d7bc966",
   "metadata": {
    "tags": []
   },
   "outputs": [],
   "source": [
    "# List Models\n",
    "for m in genai.list_models():\n",
    "    if 'generateContent' in m.supported_generation_methods:\n",
    "        print(m.name)"
   ]
  },
  {
   "cell_type": "markdown",
   "id": "ae79b064-3be2-4063-9389-1401fbc2566a",
   "metadata": {
    "tags": []
   },
   "source": [
    "# Using Vertex AI\n",
    "\n",
    "\n",
    "\n",
    "\n",
    "\n",
    "\n",
    "\n"
   ]
  },
  {
   "cell_type": "code",
   "execution_count": null,
   "id": "662024b1-f424-4adc-92ea-bf229b0fac31",
   "metadata": {
    "tags": []
   },
   "outputs": [],
   "source": [
    "!pip install --upgrade google-cloud-aiplatform -q"
   ]
  },
  {
   "cell_type": "code",
   "execution_count": null,
   "id": "b58cd870-86d8-448c-838a-2d2a54567ce3",
   "metadata": {
    "tags": []
   },
   "outputs": [],
   "source": [
    "# Import Packages\n",
    "import pathlib\n",
    "import textwrap\n",
    "\n",
    "from IPython.display import display\n",
    "from IPython.display import Markdown\n",
    "\n",
    "def to_markdown(text):\n",
    "    text = text.replace('•', ' *')\n",
    "    return Markdown(textwrap.indent(text, '> ', predicate=lambda _: True))"
   ]
  },
  {
   "cell_type": "code",
   "execution_count": null,
   "id": "7e244a58-0738-4e7c-9708-eeb6468986b6",
   "metadata": {
    "tags": []
   },
   "outputs": [],
   "source": [
    "import vertexai\n",
    "from vertexai.preview.generative_models import GenerativeModel, Part\n",
    "\n",
    "config = {\n",
    "    \"max_output_tokens\": 2048,\n",
    "    \"temperature\": 0.9,\n",
    "    \"top_p\": 1\n",
    "}"
   ]
  },
  {
   "cell_type": "code",
   "execution_count": null,
   "id": "577c02c5-38c5-4278-8ff2-5640eb0a8fbf",
   "metadata": {
    "tags": []
   },
   "outputs": [],
   "source": [
    "model = GenerativeModel(\"gemini-pro\")\n",
    "chat = model.start_chat(history=[])\n",
    "chat"
   ]
  },
  {
   "cell_type": "code",
   "execution_count": null,
   "id": "20e51ede-3605-49f1-b923-41170db7e10d",
   "metadata": {
    "tags": []
   },
   "outputs": [],
   "source": [
    "response = chat.send_message(\"\"\"Explain Google Cloud in one line only.\"\"\", generation_config=config)"
   ]
  },
  {
   "cell_type": "code",
   "execution_count": null,
   "id": "b274bf02-56fd-42c7-8b6c-17a2d39bf89b",
   "metadata": {},
   "outputs": [],
   "source": [
    "response = chat.send_message(\"\"\"Explain Google Cloud in one line only.\"\"\")"
   ]
  },
  {
   "cell_type": "code",
   "execution_count": null,
   "id": "3148d1a4-84d2-4cd9-a065-bc3e1f564716",
   "metadata": {
    "tags": []
   },
   "outputs": [],
   "source": [
    "response.text"
   ]
  },
  {
   "cell_type": "code",
   "execution_count": null,
   "id": "ac369eb8-55ed-42f1-97bb-d84993e9bde8",
   "metadata": {
    "tags": []
   },
   "outputs": [],
   "source": [
    "to_markdown(response.text)"
   ]
  },
  {
   "cell_type": "code",
   "execution_count": null,
   "id": "28d8cb2f-0166-475b-84cf-22893dcea8f4",
   "metadata": {
    "tags": []
   },
   "outputs": [],
   "source": [
    "chat.history"
   ]
  },
  {
   "cell_type": "code",
   "execution_count": null,
   "id": "ab183e83-8f1b-4c02-8104-fe587b992940",
   "metadata": {
    "tags": []
   },
   "outputs": [],
   "source": [
    "response = chat.send_message(\"\"\"Explain Google Cloud in one line only.\"\"\", stream=True)"
   ]
  },
  {
   "cell_type": "code",
   "execution_count": null,
   "id": "f79b718d-1101-4a9e-b4b7-46ffab310f0d",
   "metadata": {
    "tags": []
   },
   "outputs": [],
   "source": [
    "for chunk in response:\n",
    "    print(chunk.text)\n",
    "    print(\"_\")"
   ]
  },
  {
   "cell_type": "code",
   "execution_count": null,
   "id": "17615fef-8a62-44c9-8a97-eb832eb601e4",
   "metadata": {},
   "outputs": [],
   "source": []
  },
  {
   "cell_type": "code",
   "execution_count": null,
   "id": "a170c747-ce7f-4dcc-b9db-ad7d30562e38",
   "metadata": {
    "tags": []
   },
   "outputs": [],
   "source": [
    "prompt = input(\"Prompt\")\n",
    "response = chat.send_message(prompt, stream=True)\n",
    "\n",
    "for chunk in response:\n",
    "    print(chunk.text)\n",
    "    print(\"_\")"
   ]
  },
  {
   "cell_type": "code",
   "execution_count": null,
   "id": "9617a409-8ed2-4c8e-b615-a8d3f8ca1054",
   "metadata": {
    "tags": []
   },
   "outputs": [],
   "source": [
    "to_markdown(response.text)"
   ]
  },
  {
   "cell_type": "code",
   "execution_count": null,
   "id": "eaf05660-f38c-4b44-84d5-f66c2f968cfa",
   "metadata": {
    "tags": []
   },
   "outputs": [],
   "source": [
    "response_ = ''\n",
    "response = chat.send_message(\"\"\"Explain SRE and DevOps in a tabular format\"\"\", stream=True)\n",
    "for chunk in response:\n",
    "    print(chunk.text)\n",
    "    print(\"_\")\n",
    "    response_ = response_ + chunk.text \n",
    "to_markdown(response_)"
   ]
  },
  {
   "cell_type": "code",
   "execution_count": null,
   "id": "5ef6c64c-18c1-40a2-96bd-7862601bfae9",
   "metadata": {
    "tags": []
   },
   "outputs": [
    {
     "name": "stdin",
     "output_type": "stream",
     "text": [
      "True or False False\n",
      "Prompt \"Explain SRE and DevOps in a tabular format\"\n"
     ]
    }
   ],
   "source": [
    "import time\n",
    "stream_ = input(\"True or False\")\n",
    "prompt_example = \"Explain SRE and DevOps in a tabular format\"\n",
    "prompt = input(\"Prompt\")\n",
    "response_ = ''\n",
    "\n",
    "start = time.time()\n",
    "\n",
    "if stream_ == \"True\":\n",
    "    response = chat.send_message(prompt, stream=True)\n",
    "    for chunk in response:\n",
    "        print(chunk.text)\n",
    "        print(\"_\")\n",
    "        response_ = response_ + chunk.text \n",
    "    end = time.time()\n",
    "    display(to_markdown(response_))\n",
    "    print(end - start)\n",
    "\n",
    "if stream_ == \"False\":\n",
    "    response = chat.send_message(prompt)\n",
    "    display(to_markdown(response.text))\n",
    "    end = time.time()\n",
    "    print(end - start)"
   ]
  },
  {
   "cell_type": "code",
   "execution_count": null,
   "id": "0cd9c49f-de83-4cfa-b323-356149f8b8a1",
   "metadata": {},
   "outputs": [],
   "source": []
  }
 ],
 "metadata": {
  "environment": {
   "kernel": "python3",
   "name": "tf2-cpu.2-11.m114",
   "type": "gcloud",
   "uri": "gcr.io/deeplearning-platform-release/tf2-cpu.2-11:m114"
  },
  "kernelspec": {
   "display_name": "Python 3",
   "language": "python",
   "name": "python3"
  },
  "language_info": {
   "codemirror_mode": {
    "name": "ipython",
    "version": 3
   },
   "file_extension": ".py",
   "mimetype": "text/x-python",
   "name": "python",
   "nbconvert_exporter": "python",
   "pygments_lexer": "ipython3",
   "version": "3.10.13"
  }
 },
 "nbformat": 4,
 "nbformat_minor": 5
}
