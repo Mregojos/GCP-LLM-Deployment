{
 "cells": [
  {
   "cell_type": "markdown",
   "id": "3802712c-05d2-44ff-b790-12e676a6e782",
   "metadata": {
    "tags": []
   },
   "source": [
    "# Multimodal Deployment\n",
    "\n",
    "Resource: ai.google.dev/doccs"
   ]
  },
  {
   "cell_type": "code",
   "execution_count": null,
   "id": "0c333255-d54b-4cb7-b59e-c178b064fc5b",
   "metadata": {},
   "outputs": [],
   "source": []
  },
  {
   "cell_type": "code",
   "execution_count": null,
   "id": "38a07110-ec3f-4801-8e18-0474b9896876",
   "metadata": {},
   "outputs": [],
   "source": []
  },
  {
   "cell_type": "code",
   "execution_count": null,
   "id": "ac2e8efe-95f6-47eb-97d7-03db0f8e9676",
   "metadata": {},
   "outputs": [],
   "source": []
  }
 ],
 "metadata": {
  "environment": {
   "kernel": "python3",
   "name": "tf2-cpu.2-11.m114",
   "type": "gcloud",
   "uri": "gcr.io/deeplearning-platform-release/tf2-cpu.2-11:m114"
  },
  "kernelspec": {
   "display_name": "Python 3",
   "language": "python",
   "name": "python3"
  },
  "language_info": {
   "codemirror_mode": {
    "name": "ipython",
    "version": 3
   },
   "file_extension": ".py",
   "mimetype": "text/x-python",
   "name": "python",
   "nbconvert_exporter": "python",
   "pygments_lexer": "ipython3",
   "version": "3.10.13"
  }
 },
 "nbformat": 4,
 "nbformat_minor": 5
}
